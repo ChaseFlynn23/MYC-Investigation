{
 "cells": [
  {
   "cell_type": "code",
   "execution_count": null,
   "id": "427a274f",
   "metadata": {},
   "outputs": [],
   "source": [
    "import numpy as np\n",
    "import pandas as pd\n",
    "import matplotlib.pyplot as plt\n",
    "from matplotlib import colors\n",
    "from tqdm import tqdm\n",
    "import glob\n",
    "import sklearn\n",
    "import re\n",
    "from sklearn.ensemble import RandomForestClassifier\n",
    "from sklearn.model_selection import train_test_split\n",
    "from sklearn.metrics import accuracy_score, confusion_matrix, classification_report\n",
    "from sklearn.model_selection import GridSearchCV\n",
    "\n",
    "import seaborn as sns\n",
    "import tensorflow as tf\n",
    "import keras\n",
    "from keras.layers import Input, Dense, LeakyReLU\n",
    "from keras.models import Model, Sequential, load_model\n",
    "from keras.callbacks import ModelCheckpoint, EarlyStopping\n",
    "\n",
    "import os\n",
    "import gzip\n",
    "import sys\n",
    "\n",
    "import matplotlib as mpl\n",
    "mpl.rcParams.update(mpl.rcParamsDefault)"
   ]
  },
  {
   "cell_type": "markdown",
   "id": "32b36033",
   "metadata": {},
   "source": [
    "# LCC data import\n"
   ]
  },
  {
   "cell_type": "code",
   "execution_count": null,
   "id": "88099140",
   "metadata": {},
   "outputs": [],
   "source": [
    "# Import lcc data files for wt protein and assign to variable (wt_windowsize)\n",
    "wt_files=glob.glob('w*.lccdata')\n",
    "wt_files.sort(key=lambda x: int(re.search(r'\\d+', x).group()))  # Sort files based on numerical part\n",
    "\n",
    "window_range = list(range(2,51))\n",
    "wt_dict = {}\n",
    "for window, file in zip(window_range, wt_files):\n",
    "    wt_dict[window] = pd.DataFrame(np.loadtxt(file)).drop(columns=0) \n",
    "\n",
    "# Check the correspondence\n",
    "for window, file in wt_dict.items():\n",
    "    print(f\"Window {window} corresponds to {wt_files[window - 2]}\")    "
   ]
  },
  {
   "cell_type": "code",
   "execution_count": null,
   "id": "54683503",
   "metadata": {},
   "outputs": [],
   "source": [
    "# Import lcc data files for mutant protein and assign to variable (mutant_windowsize)\n",
    "\n",
    "# Import lcc data files for mutant protein and assign to variable (mutant_windowsize)\n",
    "m_files = glob.glob('m*.lccdata')\n",
    "m_files.sort(key=lambda x: [int(part) if part.isdigit() else part for part in re.split(r'(\\d+)', x)])\n",
    "\n",
    "window_range = list(range(2, 51))\n",
    "D132H_dict = {}\n",
    "for window, file in zip(window_range, m_files):\n",
    "    D132H_dict[window] = pd.DataFrame(np.loadtxt(file)).drop(columns=0)\n",
    "\n",
    "# Check the correspondence\n",
    "for window, file in D132H_dict.items():\n",
    "    print(f\"Window {window} corresponds to {m_files[window - 2]}\")\n"
   ]
  },
  {
   "cell_type": "code",
   "execution_count": null,
   "id": "811d0ade",
   "metadata": {},
   "outputs": [],
   "source": [
    "# Visualization of dataset\n",
    "print('WT for window size = 5')\n",
    "display(wt_dict[5])\n",
    "\n",
    "print('\\n')\n",
    "print('---------------------------------')\n",
    "print('D132H for window size = 12')\n",
    "display(D132H_dict[12])"
   ]
  },
  {
   "cell_type": "markdown",
   "id": "0871cb05",
   "metadata": {},
   "source": [
    "# Local compaction plots, ws = 2-50"
   ]
  },
  {
   "cell_type": "code",
   "execution_count": null,
   "id": "085f66dd",
   "metadata": {
    "scrolled": false
   },
   "outputs": [],
   "source": [
    "# Plot distance measurements at each position\n",
    "def LCC_plot(window, wt, mutant, ax):\n",
    "    '''\n",
    "    Creates LCC plot for wt and mutant data for different window sizes\n",
    "    '''\n",
    "    \n",
    "    wt = wt.to_numpy()\n",
    "    mutant = mutant.to_numpy()\n",
    "    \n",
    "    frame_number_wt = wt.shape[0]\n",
    "    frame_number_mutant = mutant.shape[0]\n",
    "    \n",
    "    #print('Number of trajectory frames read in (WT): ', frame_number_wt, '\\n',\n",
    "    #      'Number of trajectory frames read in (mutant): ', frame_number_mutant)\n",
    "    \n",
    "    if frame_number_wt == frame_number_mutant:\n",
    "        frame_number = frame_number_wt\n",
    "        \n",
    "    else:\n",
    "        print('Different number of trajectory frames read in for mutant and WT')\n",
    "        \n",
    "    upper_limit = 70 + 1 - window # max protein length + 1\n",
    "\n",
    "\n",
    "    for z in range(1, frame_number, 10):\n",
    "        y = wt[z]\n",
    "        k = mutant[z]\n",
    "\n",
    "    # Calculate the length of y (assuming y represents amino acid sequence positions)\n",
    "        y_length = len(y)\n",
    "\n",
    "    # Generate x with the same length as y\n",
    "        x = np.linspace(1 + window / 2 + 90, upper_limit + window / 2 + 90, y_length)\n",
    "\n",
    "        lcc = ax.plot(x, y, color='blue', alpha=0.002)\n",
    "        lcc = ax.plot(x, k, color='red', alpha=0.002)\n",
    "\n",
    "        \n",
    "        \n",
    "    ax.set_xlabel('Amino Acid Sequence Position')  \n",
    "    ax.set_ylabel('Distance ($\\AA$)') \n",
    "    ax.xaxis.set_tick_params(which='both', labelbottom=True)\n",
    "    plot_name = 'Sequence Distance Distribution: Window Size ' + str(window) + ' aa'\n",
    "    ax.set_title(plot_name)\n",
    "    \n",
    "    \n",
    "    return lcc\n",
    "\n",
    "\n",
    "plt.rcParams['font.size'] = '18'\n",
    "fig, axes = plt.subplots(nrows = 49, ncols = 1, figsize = (15,490))\n",
    "\n",
    "for window in tqdm(range(2,51)):\n",
    "    \n",
    "    LCC_plot(window, wt_dict[window], D132H_dict[window], (axes.flat)[window-2])\n",
    "    \n",
    "\n",
    "plt.show()"
   ]
  },
  {
   "cell_type": "code",
   "execution_count": null,
   "id": "b35833b7",
   "metadata": {},
   "outputs": [],
   "source": []
  }
 ],
 "metadata": {
  "kernelspec": {
   "display_name": "Python 3 (ipykernel)",
   "language": "python",
   "name": "python3"
  },
  "language_info": {
   "codemirror_mode": {
    "name": "ipython",
    "version": 3
   },
   "file_extension": ".py",
   "mimetype": "text/x-python",
   "name": "python",
   "nbconvert_exporter": "python",
   "pygments_lexer": "ipython3",
   "version": "3.11.6"
  }
 },
 "nbformat": 4,
 "nbformat_minor": 5
}
